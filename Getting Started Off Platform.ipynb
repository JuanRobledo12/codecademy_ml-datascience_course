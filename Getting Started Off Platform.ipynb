{
 "cells": [
  {
   "cell_type": "code",
   "execution_count": 2,
   "id": "fa382aa1",
   "metadata": {},
   "outputs": [
    {
     "data": {
      "text/plain": [
       "[1, 2, 3, 4, 5]"
      ]
     },
     "execution_count": 2,
     "metadata": {},
     "output_type": "execute_result"
    }
   ],
   "source": [
    "mynums = [1,2,3,4,5]\n",
    "mynums"
   ]
  },
  {
   "cell_type": "code",
   "execution_count": 3,
   "id": "d229b584",
   "metadata": {},
   "outputs": [
    {
     "name": "stdout",
     "output_type": "stream",
     "text": [
      "1\n",
      "2\n",
      "3\n",
      "4\n",
      "5\n"
     ]
    }
   ],
   "source": [
    "for num in mynums:\n",
    "    print(num)"
   ]
  },
  {
   "cell_type": "code",
   "execution_count": 4,
   "id": "f7b6d057",
   "metadata": {},
   "outputs": [],
   "source": [
    "import numpy as np"
   ]
  },
  {
   "cell_type": "code",
   "execution_count": 5,
   "id": "4d986f8b",
   "metadata": {},
   "outputs": [],
   "source": [
    "grades = np.array([10, 9, 4, 4, 7, 10, 9, 10, 10, 6, 8, 8, 7, 10, 4])"
   ]
  },
  {
   "cell_type": "code",
   "execution_count": 6,
   "id": "7e780c66",
   "metadata": {},
   "outputs": [
    {
     "data": {
      "text/plain": [
       "7.733333333333333"
      ]
     },
     "execution_count": 6,
     "metadata": {},
     "output_type": "execute_result"
    }
   ],
   "source": [
    "np.average(grades)"
   ]
  },
  {
   "cell_type": "code",
   "execution_count": 7,
   "id": "28cf7470",
   "metadata": {},
   "outputs": [],
   "source": [
    "grades?"
   ]
  },
  {
   "cell_type": "code",
   "execution_count": 10,
   "id": "dde95344",
   "metadata": {},
   "outputs": [],
   "source": [
    "y = 1+2\n",
    "x = 1-1\n",
    "z = x/y\n"
   ]
  },
  {
   "cell_type": "code",
   "execution_count": 9,
   "id": "a6167d0d",
   "metadata": {},
   "outputs": [
    {
     "name": "stdout",
     "output_type": "stream",
     "text": [
      "> \u001b[0;32m/tmp/ipykernel_66/1960521981.py\u001b[0m(3)\u001b[0;36m<module>\u001b[0;34m()\u001b[0m\n",
      "\u001b[0;32m      1 \u001b[0;31m\u001b[0mX\u001b[0m \u001b[0;34m=\u001b[0m \u001b[0;36m1\u001b[0m\u001b[0;34m+\u001b[0m\u001b[0;36m1\u001b[0m\u001b[0;34m\u001b[0m\u001b[0;34m\u001b[0m\u001b[0m\n",
      "\u001b[0m\u001b[0;32m      2 \u001b[0;31m\u001b[0mY\u001b[0m \u001b[0;34m=\u001b[0m \u001b[0;36m1\u001b[0m\u001b[0;34m-\u001b[0m\u001b[0;36m1\u001b[0m\u001b[0;34m\u001b[0m\u001b[0;34m\u001b[0m\u001b[0m\n",
      "\u001b[0m\u001b[0;32m----> 3 \u001b[0;31m\u001b[0mz\u001b[0m \u001b[0;34m=\u001b[0m \u001b[0mX\u001b[0m\u001b[0;34m/\u001b[0m\u001b[0mY\u001b[0m\u001b[0;34m\u001b[0m\u001b[0;34m\u001b[0m\u001b[0m\n",
      "\u001b[0m\n",
      "ipdb> X\n",
      "2\n",
      "ipdb> Y\n",
      "0\n",
      "ipdb> z\n",
      "*** NameError: name 'z' is not defined\n",
      "ipdb> exit()\n"
     ]
    }
   ],
   "source": [
    "%debug"
   ]
  },
  {
   "cell_type": "markdown",
   "id": "a0b74b3f",
   "metadata": {},
   "source": [
    "#### Hi, this is  a heading\n",
    "\n",
    "*emphazise*\n",
    "**Strong**\n",
    "\n",
    "`in-line code`\n",
    "***\n",
    "New line above and below\n",
    "***\n",
    "\n",
    "* ul\n",
    "* ul\n",
    "    * ul\n",
    "    * ul\n",
    "1. ol\n",
    "2. ol\n",
    "    1. ol\n",
    "    2. ol"
   ]
  },
  {
   "cell_type": "code",
   "execution_count": null,
   "id": "70f12653",
   "metadata": {},
   "outputs": [],
   "source": []
  },
  {
   "cell_type": "code",
   "execution_count": null,
   "id": "2201b604",
   "metadata": {},
   "outputs": [],
   "source": []
  },
  {
   "cell_type": "code",
   "execution_count": null,
   "id": "670a4952",
   "metadata": {},
   "outputs": [],
   "source": [
    "![image]('')"
   ]
  },
  {
   "cell_type": "code",
   "execution_count": null,
   "id": "e38039bd",
   "metadata": {},
   "outputs": [],
   "source": []
  }
 ],
 "metadata": {
  "kernelspec": {
   "display_name": "Python 3 (ipykernel)",
   "language": "python",
   "name": "python3"
  },
  "language_info": {
   "codemirror_mode": {
    "name": "ipython",
    "version": 3
   },
   "file_extension": ".py",
   "mimetype": "text/x-python",
   "name": "python",
   "nbconvert_exporter": "python",
   "pygments_lexer": "ipython3",
   "version": "3.10.9"
  }
 },
 "nbformat": 4,
 "nbformat_minor": 5
}
